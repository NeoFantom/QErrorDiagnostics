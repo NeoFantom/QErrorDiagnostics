{
 "cells": [
  {
   "cell_type": "code",
   "execution_count": 1,
   "id": "c45b3457",
   "metadata": {},
   "outputs": [],
   "source": [
    "import yaml\n",
    "from pyvis.network import Network\n",
    "import networkx as nx\n",
    "from IPython.display import IFrame, HTML"
   ]
  },
  {
   "cell_type": "code",
   "execution_count": null,
   "id": "8cbfe8f4",
   "metadata": {},
   "outputs": [
    {
     "name": "stdout",
     "output_type": "stream",
     "text": [
      "Warning: When  cdn_resources is 'local' jupyter notebook has issues displaying graphics on chrome/safari. Use cdn_resources='in_line' or cdn_resources='remote' if you have issues viewing graphics in a notebook.\n",
      "calibration_graph.html\n"
     ]
    },
    {
     "data": {
      "text/html": [
       "\n",
       "        <iframe\n",
       "            width=\"800\"\n",
       "            height=\"600\"\n",
       "            src=\"calibration_graph.html\"\n",
       "            frameborder=\"0\"\n",
       "            allowfullscreen\n",
       "            \n",
       "        ></iframe>\n",
       "        "
      ],
      "text/plain": [
       "<IPython.lib.display.IFrame at 0x1bc351281a0>"
      ]
     },
     "execution_count": 10,
     "metadata": {},
     "output_type": "execute_result"
    }
   ],
   "source": [
    "# Load the YAML data\n",
    "yaml_file = \"calibration_experiments.yaml\"\n",
    "with open(yaml_file, \"r\", encoding='utf8') as file:\n",
    "    data = yaml.safe_load(file)\n",
    "\n",
    "# Extract experiments and graph structure\n",
    "experiments = {exp[\"id\"]: exp[\"name\"] for exp in data[\"experiments\"]}\n",
    "graph_structure = data[\"graph\"]\n",
    "\n",
    "# Create a networkx graph\n",
    "graph = nx.DiGraph()\n",
    "\n",
    "# Add nodes for each experiment\n",
    "for exp_id, exp_name in experiments.items():\n",
    "    graph.add_node(exp_id, label=exp_id, title=exp_name)\n",
    "\n",
    "# Add edges based on the graph structure\n",
    "for parent, children in graph_structure.items():\n",
    "    for child in children:\n",
    "        graph.add_edge(parent, child)\n",
    "\n",
    "# Create a PyVis network with hierarchical layout\n",
    "network = Network(notebook=True, directed=True, width=800, height=600)\n",
    "\n",
    "# Enable hierarchical layout with top-to-bottom direction\n",
    "network.set_options('''{\n",
    "    \"layout\": {\n",
    "        \"hierarchical\": {\n",
    "            \"enabled\": true,\n",
    "            \"direction\": \"UD\", \n",
    "            \"sortMethod\": \"hubsize\"\n",
    "        }\n",
    "    },\n",
    "    \"physics\": {\n",
    "        \"hierarchicalRepulsion\": {\n",
    "            \"nodeDistance\": 120\n",
    "        }\n",
    "    }\n",
    "}''')\n",
    "network.from_nx(graph)\n",
    "# Generate the graph and save it to an HTML file\n",
    "output_file = \"calibration_graph.html\"\n",
    "network.show(output_file, notebook=True)\n",
    "\n",
    "# # Display the graph in the Jupyter Notebook\n",
    "# display(HTML(output_file))"
   ]
  },
  {
   "cell_type": "code",
   "execution_count": null,
   "id": "234f5f14-ce06-4ed2-b486-b16d47741012",
   "metadata": {},
   "outputs": [],
   "source": []
  },
  {
   "cell_type": "code",
   "execution_count": null,
   "id": "c95d5604",
   "metadata": {},
   "outputs": [],
   "source": []
  }
 ],
 "metadata": {
  "kernelspec": {
   "display_name": "Python 3 (ipykernel)",
   "language": "python",
   "name": "python3"
  },
  "language_info": {
   "codemirror_mode": {
    "name": "ipython",
    "version": 3
   },
   "file_extension": ".py",
   "mimetype": "text/x-python",
   "name": "python",
   "nbconvert_exporter": "python",
   "pygments_lexer": "ipython3",
   "version": "3.12.3"
  }
 },
 "nbformat": 4,
 "nbformat_minor": 5
}
