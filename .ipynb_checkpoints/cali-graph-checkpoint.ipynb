{
 "cells": [
  {
   "cell_type": "code",
   "execution_count": 1,
   "id": "bf2351ed",
   "metadata": {},
   "outputs": [],
   "source": [
    "import yaml\n",
    "from pyvis.network import Network\n",
    "from IPython.display import IFrame"
   ]
  },
  {
   "cell_type": "code",
   "execution_count": 8,
   "id": "ab65b4e2",
   "metadata": {},
   "outputs": [
    {
     "name": "stdout",
     "output_type": "stream",
     "text": [
      "calibration_graph.html\n"
     ]
    },
    {
     "data": {
      "text/html": [
       "\n",
       "        <iframe\n",
       "            width=\"800\"\n",
       "            height=\"600\"\n",
       "            src=\"calibration_graph.html\"\n",
       "            frameborder=\"0\"\n",
       "            allowfullscreen\n",
       "            \n",
       "        ></iframe>\n",
       "        "
      ],
      "text/plain": [
       "<IPython.lib.display.IFrame at 0x25587ce7590>"
      ]
     },
     "execution_count": 8,
     "metadata": {},
     "output_type": "execute_result"
    }
   ],
   "source": [
    "# Load the YAML data\n",
    "yaml_file = \"calibration_experiments.yaml\"\n",
    "with open(yaml_file, \"r\", encoding='utf8') as file:\n",
    "    data = yaml.safe_load(file)\n",
    "\n",
    "# Extract experiments and graph structure\n",
    "experiments = {exp[\"id\"]: exp[\"name\"] for exp in data[\"experiments\"]}\n",
    "graph_structure = data[\"graph\"]\n",
    "\n",
    "# Create a PyVis network\n",
    "net = Network(directed=True)\n",
    "net.barnes_hut()\n",
    "\n",
    "# Add nodes for each experiment\n",
    "for exp_id, exp_name in experiments.items():\n",
    "    net.add_node(exp_id, label=exp_name, title=exp_name)\n",
    "\n",
    "# Add edges based on the graph structure\n",
    "for parent, children in graph_structure.items():\n",
    "    for child in children:\n",
    "        net.add_edge(parent, child)\n",
    "\n",
    "# Generate the graph and save it to an HTML file\n",
    "output_file = \"calibration_graph.html\"\n",
    "net.show(output_file, notebook=False)\n",
    "\n",
    "# Display the graph in the Jupyter Notebook\n",
    "IFrame(output_file, width=800, height=600)"
   ]
  },
  {
   "cell_type": "code",
   "execution_count": null,
   "id": "e0d96199-266c-47c7-be09-09e3d7b44383",
   "metadata": {},
   "outputs": [],
   "source": []
  }
 ],
 "metadata": {
  "kernelspec": {
   "display_name": "Python 3 (ipykernel)",
   "language": "python",
   "name": "python3"
  },
  "language_info": {
   "codemirror_mode": {
    "name": "ipython",
    "version": 3
   },
   "file_extension": ".py",
   "mimetype": "text/x-python",
   "name": "python",
   "nbconvert_exporter": "python",
   "pygments_lexer": "ipython3",
   "version": "3.12.3"
  }
 },
 "nbformat": 4,
 "nbformat_minor": 5
}
